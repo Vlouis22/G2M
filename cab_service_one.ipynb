{
 "cells": [
  {
   "cell_type": "code",
   "execution_count": 3,
   "id": "4cd946b7",
   "metadata": {},
   "outputs": [],
   "source": [
    "import pandas as pd\n",
    "import numpy as np\n",
    "import seaborn as sns\n",
    "import matplotlib.pyplot as plt\n",
    "import math"
   ]
  },
  {
   "cell_type": "code",
   "execution_count": 6,
   "id": "93e666ee",
   "metadata": {},
   "outputs": [],
   "source": [
    "cab_data = pd.read_csv('https://raw.githubusercontent.com/DataGlacier/DataSets/main/Cab_Data.csv')\n",
    "customer_data = pd.read_csv('https://raw.githubusercontent.com/DataGlacier/DataSets/main/Customer_ID.csv')\n",
    "transaction_data = pd.read_csv('https://raw.githubusercontent.com/DataGlacier/DataSets/main/Transaction_ID.csv')"
   ]
  },
  {
   "cell_type": "code",
   "execution_count": 7,
   "id": "c87291af",
   "metadata": {},
   "outputs": [],
   "source": [
    "half_data = pd.merge(transaction_data, cab_data, on='Transaction ID')\n",
    "data = pd.merge(customer_data, half_data, on='Customer ID')"
   ]
  },
  {
   "cell_type": "code",
   "execution_count": null,
   "id": "9d05919a",
   "metadata": {},
   "outputs": [],
   "source": []
  },
  {
   "cell_type": "code",
   "execution_count": 27,
   "id": "16b55f4d",
   "metadata": {},
   "outputs": [
    {
     "data": {
      "text/html": [
       "<div>\n",
       "<style scoped>\n",
       "    .dataframe tbody tr th:only-of-type {\n",
       "        vertical-align: middle;\n",
       "    }\n",
       "\n",
       "    .dataframe tbody tr th {\n",
       "        vertical-align: top;\n",
       "    }\n",
       "\n",
       "    .dataframe thead th {\n",
       "        text-align: right;\n",
       "    }\n",
       "</style>\n",
       "<table border=\"1\" class=\"dataframe\">\n",
       "  <thead>\n",
       "    <tr style=\"text-align: right;\">\n",
       "      <th></th>\n",
       "      <th>Customer ID</th>\n",
       "      <th>Age</th>\n",
       "      <th>Income (USD/Month)</th>\n",
       "      <th>Transaction ID</th>\n",
       "      <th>Date of Travel</th>\n",
       "      <th>KM Travelled</th>\n",
       "      <th>Price Charged</th>\n",
       "      <th>Cost of Trip</th>\n",
       "      <th>Number of Rides</th>\n",
       "    </tr>\n",
       "  </thead>\n",
       "  <tbody>\n",
       "    <tr>\n",
       "      <th>count</th>\n",
       "      <td>347950.000000</td>\n",
       "      <td>347950.00000</td>\n",
       "      <td>347950.000000</td>\n",
       "      <td>3.479500e+05</td>\n",
       "      <td>347950.000000</td>\n",
       "      <td>347950.000000</td>\n",
       "      <td>347950.000000</td>\n",
       "      <td>347950.000000</td>\n",
       "      <td>347950.000000</td>\n",
       "    </tr>\n",
       "    <tr>\n",
       "      <th>mean</th>\n",
       "      <td>18744.122862</td>\n",
       "      <td>35.33116</td>\n",
       "      <td>15051.212091</td>\n",
       "      <td>1.022065e+07</td>\n",
       "      <td>42963.785805</td>\n",
       "      <td>22.566981</td>\n",
       "      <td>425.110021</td>\n",
       "      <td>286.468861</td>\n",
       "      <td>19.256767</td>\n",
       "    </tr>\n",
       "    <tr>\n",
       "      <th>std</th>\n",
       "      <td>21063.597911</td>\n",
       "      <td>12.58992</td>\n",
       "      <td>7968.379982</td>\n",
       "      <td>1.268274e+05</td>\n",
       "      <td>307.554234</td>\n",
       "      <td>12.232620</td>\n",
       "      <td>275.422956</td>\n",
       "      <td>158.102738</td>\n",
       "      <td>11.575681</td>\n",
       "    </tr>\n",
       "    <tr>\n",
       "      <th>min</th>\n",
       "      <td>1.000000</td>\n",
       "      <td>18.00000</td>\n",
       "      <td>2000.000000</td>\n",
       "      <td>1.000001e+07</td>\n",
       "      <td>42371.000000</td>\n",
       "      <td>1.900000</td>\n",
       "      <td>15.750000</td>\n",
       "      <td>19.000000</td>\n",
       "      <td>2.000000</td>\n",
       "    </tr>\n",
       "    <tr>\n",
       "      <th>25%</th>\n",
       "      <td>2620.000000</td>\n",
       "      <td>25.00000</td>\n",
       "      <td>8431.000000</td>\n",
       "      <td>1.011072e+07</td>\n",
       "      <td>42697.000000</td>\n",
       "      <td>12.000000</td>\n",
       "      <td>207.310000</td>\n",
       "      <td>151.368000</td>\n",
       "      <td>11.000000</td>\n",
       "    </tr>\n",
       "    <tr>\n",
       "      <th>50%</th>\n",
       "      <td>7100.000000</td>\n",
       "      <td>33.00000</td>\n",
       "      <td>14686.000000</td>\n",
       "      <td>1.022091e+07</td>\n",
       "      <td>42987.000000</td>\n",
       "      <td>22.440000</td>\n",
       "      <td>387.885000</td>\n",
       "      <td>282.555000</td>\n",
       "      <td>17.000000</td>\n",
       "    </tr>\n",
       "    <tr>\n",
       "      <th>75%</th>\n",
       "      <td>34873.000000</td>\n",
       "      <td>42.00000</td>\n",
       "      <td>21035.000000</td>\n",
       "      <td>1.033080e+07</td>\n",
       "      <td>43231.000000</td>\n",
       "      <td>32.960000</td>\n",
       "      <td>585.710000</td>\n",
       "      <td>414.120000</td>\n",
       "      <td>29.000000</td>\n",
       "    </tr>\n",
       "    <tr>\n",
       "      <th>max</th>\n",
       "      <td>60000.000000</td>\n",
       "      <td>65.00000</td>\n",
       "      <td>34996.000000</td>\n",
       "      <td>1.044011e+07</td>\n",
       "      <td>43465.000000</td>\n",
       "      <td>48.000000</td>\n",
       "      <td>2048.030000</td>\n",
       "      <td>691.200000</td>\n",
       "      <td>54.000000</td>\n",
       "    </tr>\n",
       "  </tbody>\n",
       "</table>\n",
       "</div>"
      ],
      "text/plain": [
       "         Customer ID           Age  Income (USD/Month)  Transaction ID  \\\n",
       "count  347950.000000  347950.00000       347950.000000    3.479500e+05   \n",
       "mean    18744.122862      35.33116        15051.212091    1.022065e+07   \n",
       "std     21063.597911      12.58992         7968.379982    1.268274e+05   \n",
       "min         1.000000      18.00000         2000.000000    1.000001e+07   \n",
       "25%      2620.000000      25.00000         8431.000000    1.011072e+07   \n",
       "50%      7100.000000      33.00000        14686.000000    1.022091e+07   \n",
       "75%     34873.000000      42.00000        21035.000000    1.033080e+07   \n",
       "max     60000.000000      65.00000        34996.000000    1.044011e+07   \n",
       "\n",
       "       Date of Travel   KM Travelled  Price Charged   Cost of Trip  \\\n",
       "count   347950.000000  347950.000000  347950.000000  347950.000000   \n",
       "mean     42963.785805      22.566981     425.110021     286.468861   \n",
       "std        307.554234      12.232620     275.422956     158.102738   \n",
       "min      42371.000000       1.900000      15.750000      19.000000   \n",
       "25%      42697.000000      12.000000     207.310000     151.368000   \n",
       "50%      42987.000000      22.440000     387.885000     282.555000   \n",
       "75%      43231.000000      32.960000     585.710000     414.120000   \n",
       "max      43465.000000      48.000000    2048.030000     691.200000   \n",
       "\n",
       "       Number of Rides  \n",
       "count    347950.000000  \n",
       "mean         19.256767  \n",
       "std          11.575681  \n",
       "min           2.000000  \n",
       "25%          11.000000  \n",
       "50%          17.000000  \n",
       "75%          29.000000  \n",
       "max          54.000000  "
      ]
     },
     "execution_count": 27,
     "metadata": {},
     "output_type": "execute_result"
    }
   ],
   "source": [
    "data.describe()\n"
   ]
  },
  {
   "cell_type": "code",
   "execution_count": 35,
   "id": "497f0b80",
   "metadata": {},
   "outputs": [
    {
     "data": {
      "image/png": "[encoded data removed]",
      "text/plain": [
       "<Figure size 432x288 with 1 Axes>"
      ]
     },
     "metadata": {
      "needs_background": "light"
     },
     "output_type": "display_data"
    }
   ],
   "source": [
    "retention_rates = data.groupby('Company')['Number of Rides'].mean().reset_index(name='Retention Rate')\n",
    "sns.barplot(x='Company', y='Retention Rate', data=retention_rates)\n",
    "plt.show("
   ]
  },
  {
   "cell_type": "code",
   "execution_count": 16,
   "id": "2003e032",
   "metadata": {},
   "outputs": [],
   "source": [
    "cab_data = pd.read_csv('https://raw.githubusercontent.com/DataGlacier/DataSets/main/Cab_Data.csv')\n",
    "customer_data = pd.read_csv('https://raw.githubusercontent.com/DataGlacier/DataSets/main/Customer_ID.csv')\n",
    "transaction_data = pd.read_csv('https://raw.githubusercontent.com/DataGlacier/DataSets/main/Transaction_ID.csv')\n",
    "half_data = pd.merge(transaction_data, cab_data, on='Transaction ID')\n",
    "data = pd.merge(customer_data, half_data, on='Customer ID')"
   ]
  },
  {
   "cell_type": "code",
   "execution_count": 15,
   "id": "d13a9d7b",
   "metadata": {},
   "outputs": [
    {
     "name": "stdout",
     "output_type": "stream",
     "text": [
      "0         26-35\n",
      "1         26-35\n",
      "2         26-35\n",
      "3         26-35\n",
      "4         26-35\n",
      "          ...  \n",
      "359387    36-50\n",
      "359388    26-35\n",
      "359389    36-50\n",
      "359390    18-25\n",
      "359391    26-35\n",
      "Name: Age group, Length: 359392, dtype: category\n",
      "Categories (4, object): ['18-25' < '26-35' < '36-50' < '50+']\n"
     ]
    }
   ],
   "source": [
    "print(data['Age group'])"
   ]
  },
  {
   "cell_type": "code",
   "execution_count": 14,
   "id": "142f732a",
   "metadata": {},
   "outputs": [
    {
     "name": "stdout",
     "output_type": "stream",
     "text": [
      "18-25     94153\n",
      "26-35    112813\n",
      "36-50     84896\n",
      "50+       56684\n",
      "Name: Age group, dtype: int64\n"
     ]
    }
   ],
   "source": [
    "age_counts = data['Age group'].value_counts().sort_index()\n",
    "print(age_counts)"
   ]
  },
  {
   "cell_type": "code",
   "execution_count": 13,
   "id": "7485b473",
   "metadata": {},
   "outputs": [
    {
     "data": {
      "text/plain": [
       "<AxesSubplot:xlabel='Age group', ylabel='count'>"
      ]
     },
     "execution_count": 13,
     "metadata": {},
     "output_type": "execute_result"
    },
    {
     "data": {
      "image/png": "[encoded data removed]",
      "text/plain": [
       "<Figure size 432x288 with 1 Axes>"
      ]
     },
     "metadata": {
      "needs_background": "light"
     },
     "output_type": "display_data"
    }
   ],
   "source": [
    "bin_edges = [18, 26, 36, 50, data['Age'].max()]\n",
    "data['Age group'] = pd.cut(data['Age'], bins=bin_edges, labels=bin_labels)\n",
    "sns.countplot(x='Age group', hue='Company', data=data)\n"
   ]
  },
  {
   "cell_type": "code",
   "execution_count": 17,
   "id": "d75455cf",
   "metadata": {},
   "outputs": [
    {
     "data": {
      "text/html": [
       "<div>\n",
       "<style scoped>\n",
       "    .dataframe tbody tr th:only-of-type {\n",
       "        vertical-align: middle;\n",
       "    }\n",
       "\n",
       "    .dataframe tbody tr th {\n",
       "        vertical-align: top;\n",
       "    }\n",
       "\n",
       "    .dataframe thead th {\n",
       "        text-align: right;\n",
       "    }\n",
       "</style>\n",
       "<table border=\"1\" class=\"dataframe\">\n",
       "  <thead>\n",
       "    <tr style=\"text-align: right;\">\n",
       "      <th></th>\n",
       "      <th>Customer ID</th>\n",
       "      <th>Age</th>\n",
       "      <th>Income (USD/Month)</th>\n",
       "      <th>Transaction ID</th>\n",
       "      <th>Date of Travel</th>\n",
       "      <th>KM Travelled</th>\n",
       "      <th>Price Charged</th>\n",
       "      <th>Cost of Trip</th>\n",
       "    </tr>\n",
       "  </thead>\n",
       "  <tbody>\n",
       "    <tr>\n",
       "      <th>count</th>\n",
       "      <td>359392.000000</td>\n",
       "      <td>359392.000000</td>\n",
       "      <td>359392.000000</td>\n",
       "      <td>3.593920e+05</td>\n",
       "      <td>359392.000000</td>\n",
       "      <td>359392.000000</td>\n",
       "      <td>359392.000000</td>\n",
       "      <td>359392.000000</td>\n",
       "    </tr>\n",
       "    <tr>\n",
       "      <th>mean</th>\n",
       "      <td>19191.652115</td>\n",
       "      <td>35.336705</td>\n",
       "      <td>15048.822937</td>\n",
       "      <td>1.022076e+07</td>\n",
       "      <td>42964.067998</td>\n",
       "      <td>22.567254</td>\n",
       "      <td>423.443311</td>\n",
       "      <td>286.190113</td>\n",
       "    </tr>\n",
       "    <tr>\n",
       "      <th>std</th>\n",
       "      <td>21012.412463</td>\n",
       "      <td>12.594234</td>\n",
       "      <td>7969.409482</td>\n",
       "      <td>1.268058e+05</td>\n",
       "      <td>307.467197</td>\n",
       "      <td>12.233526</td>\n",
       "      <td>274.378911</td>\n",
       "      <td>157.993661</td>\n",
       "    </tr>\n",
       "    <tr>\n",
       "      <th>min</th>\n",
       "      <td>1.000000</td>\n",
       "      <td>18.000000</td>\n",
       "      <td>2000.000000</td>\n",
       "      <td>1.000001e+07</td>\n",
       "      <td>42371.000000</td>\n",
       "      <td>1.900000</td>\n",
       "      <td>15.600000</td>\n",
       "      <td>19.000000</td>\n",
       "    </tr>\n",
       "    <tr>\n",
       "      <th>25%</th>\n",
       "      <td>2705.000000</td>\n",
       "      <td>25.000000</td>\n",
       "      <td>8424.000000</td>\n",
       "      <td>1.011081e+07</td>\n",
       "      <td>42697.000000</td>\n",
       "      <td>12.000000</td>\n",
       "      <td>206.437500</td>\n",
       "      <td>151.200000</td>\n",
       "    </tr>\n",
       "    <tr>\n",
       "      <th>50%</th>\n",
       "      <td>7459.000000</td>\n",
       "      <td>33.000000</td>\n",
       "      <td>14685.000000</td>\n",
       "      <td>1.022104e+07</td>\n",
       "      <td>42988.000000</td>\n",
       "      <td>22.440000</td>\n",
       "      <td>386.360000</td>\n",
       "      <td>282.480000</td>\n",
       "    </tr>\n",
       "    <tr>\n",
       "      <th>75%</th>\n",
       "      <td>36078.000000</td>\n",
       "      <td>42.000000</td>\n",
       "      <td>21035.000000</td>\n",
       "      <td>1.033094e+07</td>\n",
       "      <td>43232.000000</td>\n",
       "      <td>32.960000</td>\n",
       "      <td>583.660000</td>\n",
       "      <td>413.683200</td>\n",
       "    </tr>\n",
       "    <tr>\n",
       "      <th>max</th>\n",
       "      <td>60000.000000</td>\n",
       "      <td>65.000000</td>\n",
       "      <td>35000.000000</td>\n",
       "      <td>1.044011e+07</td>\n",
       "      <td>43465.000000</td>\n",
       "      <td>48.000000</td>\n",
       "      <td>2048.030000</td>\n",
       "      <td>691.200000</td>\n",
       "    </tr>\n",
       "  </tbody>\n",
       "</table>\n",
       "</div>"
      ],
      "text/plain": [
       "         Customer ID            Age  Income (USD/Month)  Transaction ID  \\\n",
       "count  359392.000000  359392.000000       359392.000000    3.593920e+05   \n",
       "mean    19191.652115      35.336705        15048.822937    1.022076e+07   \n",
       "std     21012.412463      12.594234         7969.409482    1.268058e+05   \n",
       "min         1.000000      18.000000         2000.000000    1.000001e+07   \n",
       "25%      2705.000000      25.000000         8424.000000    1.011081e+07   \n",
       "50%      7459.000000      33.000000        14685.000000    1.022104e+07   \n",
       "75%     36078.000000      42.000000        21035.000000    1.033094e+07   \n",
       "max     60000.000000      65.000000        35000.000000    1.044011e+07   \n",
       "\n",
       "       Date of Travel   KM Travelled  Price Charged   Cost of Trip  \n",
       "count   359392.000000  359392.000000  359392.000000  359392.000000  \n",
       "mean     42964.067998      22.567254     423.443311     286.190113  \n",
       "std        307.467197      12.233526     274.378911     157.993661  \n",
       "min      42371.000000       1.900000      15.600000      19.000000  \n",
       "25%      42697.000000      12.000000     206.437500     151.200000  \n",
       "50%      42988.000000      22.440000     386.360000     282.480000  \n",
       "75%      43232.000000      32.960000     583.660000     413.683200  \n",
       "max      43465.000000      48.000000    2048.030000     691.200000  "
      ]
     },
     "execution_count": 17,
     "metadata": {},
     "output_type": "execute_result"
    }
   ],
   "source": [
    "data.describe()"
   ]
  },
  {
   "cell_type": "code",
   "execution_count": 40,
   "id": "9e211a08",
   "metadata": {},
   "outputs": [
    {
     "data": {
      "text/plain": [
       "<AxesSubplot:xlabel='Salary Range', ylabel='count'>"
      ]
     },
     "execution_count": 40,
     "metadata": {},
     "output_type": "execute_result"
    },
    {
     "data": {
      "image/png": "[encoded data removed]",
      "text/plain": [
       "<Figure size 432x288 with 1 Axes>"
      ]
     },
     "metadata": {
      "needs_background": "light"
     },
     "output_type": "display_data"
    }
   ],
   "source": [
    "bin_edges = [2000, 10000, 25000, data['Income (USD/Month)'].max()]\n",
    "bin_labels = ['$2,000-10,000', '$10,000 - 25,000', '$25,000+']\n",
    "data['Salary Range'] = pd.cut(data['Income (USD/Month)'], bins=bin_edges, labels=bin_labels)\n",
    "sns.countplot(x='Salary Range', hue='Company', data=data, )"
   ]
  },
  {
   "cell_type": "code",
   "execution_count": 41,
   "id": "927dd936",
   "metadata": {},
   "outputs": [
    {
     "data": {
      "image/png": "[encoded data removed]",
      "text/plain": [
       "<Figure size 432x288 with 1 Axes>"
      ]
     },
     "metadata": {
      "needs_background": "light"
     },
     "output_type": "display_data"
    }
   ],
   "source": [
    "ax = sns.countplot(x='Salary Range', hue='Company', data=data)\n",
    "\n",
    "for p in ax.patches:\n",
    "    ax.annotate(f'{p.get_height()}', (p.get_x()+0.06, p.get_height()+15))\n",
    "\n",
    "plt.show()"
   ]
  },
  {
   "cell_type": "code",
   "execution_count": 43,
   "id": "6f5324f8",
   "metadata": {},
   "outputs": [
    {
     "name": "stdout",
     "output_type": "stream",
     "text": [
      "Company            Pink Cab  Yellow Cab  Percentage\n",
      "Income group                                       \n",
      "$2,000 - $10,000      26700       86001     0.76309\n",
      "$10,000 - $25,000     50212      163574     0.76513\n",
      "$25,000+               7797       25099     0.76298\n"
     ]
    }
   ],
   "source": [
    "grouped_data = data.groupby(['Income group', 'Company'])['Customer ID'].count().reset_index()\n",
    "pivot_table = pd.pivot_table(grouped_data, index='Income group', columns='Company', values='Customer ID', aggfunc='sum')\n",
    "pivot_table['Percentage'] = pivot_table['Yellow Cab'] / (pivot_table['Yellow Cab'] + pivot_table['Pink Cab'])\n",
    "print(pivot_table)"
   ]
  },
  {
   "cell_type": "code",
   "execution_count": null,
   "id": "31e1efc1",
   "metadata": {},
   "outputs": [],
   "source": [
    "\n",
    "\n"
   ]
  },
  {
   "cell_type": "code",
   "execution_count": null,
   "id": "2b21b1b0",
   "metadata": {},
   "outputs": [],
   "source": []
  },
  {
   "cell_type": "code",
   "execution_count": 76,
   "id": "779e2eb6",
   "metadata": {},
   "outputs": [],
   "source": []
  },
  {
   "cell_type": "code",
   "execution_count": null,
   "id": "ec913b6b",
   "metadata": {},
   "outputs": [],
   "source": []
  },
  {
   "cell_type": "code",
   "execution_count": null,
   "id": "1bd530f3",
   "metadata": {},
   "outputs": [],
   "source": []
  },
  {
   "cell_type": "code",
   "execution_count": null,
   "id": "5e957fab",
   "metadata": {},
   "outputs": [],
   "source": []
  }
 ],
 "metadata": {
  "kernelspec": {
   "display_name": "Python 3 (ipykernel)",
   "language": "python",
   "name": "python3"
  },
  "language_info": {
   "codemirror_mode": {
    "name": "ipython",
    "version": 3
   },
   "file_extension": ".py",
   "mimetype": "text/x-python",
   "name": "python",
   "nbconvert_exporter": "python",
   "pygments_lexer": "ipython3",
   "version": "3.9.12"
  }
 },
 "nbformat": 4,
 "nbformat_minor": 5
}
